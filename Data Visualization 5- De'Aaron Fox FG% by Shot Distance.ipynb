{
 "cells": [
  {
   "cell_type": "markdown",
   "id": "e667d88f",
   "metadata": {},
   "source": [
    "# Data Analysis\n",
    "## De'Aaron Fox FG% by Shot Distance\n",
    "\n",
    "Steps for this project\n",
    "- load in cvs dataset\n",
    "- clean the dataset/remove unnecessary information\n",
    "- calculate career averages\n",
    "- visualize data on a stacked bar chart"
   ]
  },
  {
   "cell_type": "code",
   "execution_count": 346,
   "id": "67e3e932",
   "metadata": {},
   "outputs": [],
   "source": [
    "import numpy as np\n",
    "import pandas as pd\n",
    "import matplotlib.pyplot as plt\n"
   ]
  },
  {
   "cell_type": "code",
   "execution_count": 347,
   "id": "dab3b44d",
   "metadata": {},
   "outputs": [],
   "source": [
    "fox_ds=pd.read_csv(r\"/Users/ryantseng/Documents/De'Aaron Fox Shooting Statistics-Updated3 - Sheet1.csv\")\n",
    "#print(fox_ds)"
   ]
  },
  {
   "cell_type": "code",
   "execution_count": 348,
   "id": "46fadc31",
   "metadata": {},
   "outputs": [
    {
     "name": "stderr",
     "output_type": "stream",
     "text": [
      "/Users/ryantseng/jupyter/lib/python3.9/site-packages/pandas/core/frame.py:4441: SettingWithCopyWarning: \n",
      "A value is trying to be set on a copy of a slice from a DataFrame\n",
      "\n",
      "See the caveats in the documentation: https://pandas.pydata.org/pandas-docs/stable/user_guide/indexing.html#returning-a-view-versus-a-copy\n",
      "  return super().rename(\n"
     ]
    }
   ],
   "source": [
    "#move relevent data to new dataset\n",
    "clean_ds=fox_ds.iloc[14:]\n",
    "\n",
    "\n",
    "clean_ds.rename(columns = {'Season':'Shot Distance'}, \n",
    "            inplace = True)\n"
   ]
  },
  {
   "cell_type": "code",
   "execution_count": 349,
   "id": "6cae5ec0",
   "metadata": {},
   "outputs": [],
   "source": [
    "#Take shot distance and 2020-21 season statistics into 2 separate lists\n",
    "dist=clean_ds['Shot Distance'].tolist()\n",
    "\n",
    "made=clean_ds['2020-21'].tolist()\n",
    "for i in range(0, len(made)):\n",
    "    made[i] = float(made[i])\n",
    "\n",
    "#create another list to account for the miss you fg%\n",
    "miss=[]\n",
    "ones=[1,1,1,1,1]\n",
    "zip_object = zip(ones,made)\n",
    "for ones,made in zip_object:\n",
    "    miss.append(ones-made)\n",
    "    \n",
    "made=clean_ds['2020-21'].tolist()\n",
    "\n",
    "for i in range(0, len(made)):\n",
    "    made[i] = float(made[i])"
   ]
  },
  {
   "cell_type": "code",
   "execution_count": 350,
   "id": "601d4224",
   "metadata": {},
   "outputs": [
    {
     "data": {
      "image/png": "[encoded data removed]",
      "text/plain": [
       "<Figure size 432x288 with 1 Axes>"
      ]
     },
     "metadata": {
      "needs_background": "light"
     },
     "output_type": "display_data"
    }
   ],
   "source": [
    "#create stacked bar chart\n",
    "df = pd.DataFrame({'Make %': made,\n",
    "                   'Miss %': miss}, index=dist)\n",
    "ax = df.plot.bar(stacked=True,color={\"Miss %\": \"red\", \"Make %\": \"green\"})\n",
    "\n",
    "ax.set_ylabel('FG %')\n",
    "ax.set_xlabel('Shot Distance in Feet')\n",
    "ax.set_title(\"De'Aaron Fox's FG% by Shot Distance\")\n",
    "plt.show()"
   ]
  },
  {
   "cell_type": "code",
   "execution_count": null,
   "id": "03c4a52f",
   "metadata": {},
   "outputs": [],
   "source": []
  },
  {
   "cell_type": "code",
   "execution_count": null,
   "id": "618cc63e",
   "metadata": {},
   "outputs": [],
   "source": []
  },
  {
   "cell_type": "code",
   "execution_count": null,
   "id": "45c37e57",
   "metadata": {},
   "outputs": [],
   "source": []
  }
 ],
 "metadata": {
  "kernelspec": {
   "display_name": "Python 3",
   "language": "python",
   "name": "python3"
  },
  "language_info": {
   "codemirror_mode": {
    "name": "ipython",
    "version": 3
   },
   "file_extension": ".py",
   "mimetype": "text/x-python",
   "name": "python",
   "nbconvert_exporter": "python",
   "pygments_lexer": "ipython3",
   "version": "3.9.5"
  }
 },
 "nbformat": 4,
 "nbformat_minor": 5
}
