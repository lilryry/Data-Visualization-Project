{
 "cells": [
  {
   "cell_type": "markdown",
   "id": "1c94b8f9",
   "metadata": {},
   "source": [
    "# Data Analysis\n",
    "## Table Tennis Blade Ratings\n",
    "\n",
    "Steps for this project:\n",
    "- download the dataset\n",
    "- analyze the data\n",
    "- reprocess the data\n",
    "- rank by highest overall ratings\n",
    "- pick top 10 for sideways bar graph\n",
    "- create visualization"
   ]
  },
  {
   "cell_type": "code",
   "execution_count": 121,
   "id": "517cbb9d",
   "metadata": {},
   "outputs": [],
   "source": [
    "import numpy as np\n",
    "import pandas as pd\n",
    "import matplotlib.pyplot as plt\n"
   ]
  },
  {
   "cell_type": "code",
   "execution_count": 122,
   "id": "5f7f166a",
   "metadata": {
    "scrolled": true
   },
   "outputs": [
    {
     "name": "stdout",
     "output_type": "stream",
     "text": [
      "Table Tennis Blade data read successfully\n"
     ]
    }
   ],
   "source": [
    "blade_data = pd.read_csv(r\"/Users/ryantseng/Documents/Table Tennis Blades list.csv\")\n",
    "print(\"Table Tennis Blade data read successfully\")\n"
   ]
  },
  {
   "cell_type": "code",
   "execution_count": 123,
   "id": "d7c4df48",
   "metadata": {},
   "outputs": [],
   "source": [
    "#remove rows with less than 10 ratings\n",
    "blade_data = blade_data[blade_data.Ratings >=10]"
   ]
  },
  {
   "cell_type": "code",
   "execution_count": 124,
   "id": "df428d7f",
   "metadata": {},
   "outputs": [],
   "source": [
    "#remove unnecessary columns\n",
    "blade_data = blade_data.drop(['Speed','Control','Stiffness','Ratings','Price'], axis=1)\n"
   ]
  },
  {
   "cell_type": "code",
   "execution_count": 125,
   "id": "cae43b9e",
   "metadata": {},
   "outputs": [],
   "source": [
    "#remove NaN valued rows\n",
    "blade_data = blade_data.dropna(how='any')"
   ]
  },
  {
   "cell_type": "code",
   "execution_count": 126,
   "id": "8b173fca",
   "metadata": {},
   "outputs": [],
   "source": [
    "#only keep the Butterfly ones\n",
    "blade_data= blade_data[blade_data['Name'].str.match('Butterfly')]"
   ]
  },
  {
   "cell_type": "code",
   "execution_count": 127,
   "id": "1dc64337",
   "metadata": {},
   "outputs": [],
   "source": [
    "#identify top 10 overall rated blades\n",
    "blade_data = blade_data.nlargest(10,'Overall')"
   ]
  },
  {
   "cell_type": "code",
   "execution_count": 128,
   "id": "c58c4a7b",
   "metadata": {},
   "outputs": [
    {
     "name": "stdout",
     "output_type": "stream",
     "text": [
      "                               Name  Overall\n",
      "358           Butterfly FREITAS ALC      9.6\n",
      "401  Butterfly Innerforce Layer ALC      9.6\n",
      "447            Butterfly Liu Shiwen      9.6\n",
      "298    Butterfly Amultart ZL Carbon      9.5\n",
      "470               Butterfly Photino      9.5\n",
      "544        Butterfly Viscaria Light      9.5\n",
      "562        Butterfly Zhang Jike ALC      9.5\n",
      "563  Butterfly Zhang Jike Super ZLC      9.5\n",
      "359   Butterfly Fukuhara Ai Pro ZLF      9.4\n",
      "399        Butterfly Innerforce ALC      9.4\n"
     ]
    }
   ],
   "source": [
    "#print(blade_data)"
   ]
  },
  {
   "cell_type": "code",
   "execution_count": 129,
   "id": "a7755915",
   "metadata": {},
   "outputs": [
    {
     "data": {
      "image/png": "[encoded data removed]",
      "text/plain": [
       "<Figure size 432x288 with 1 Axes>"
      ]
     },
     "metadata": {
      "needs_background": "light"
     },
     "output_type": "display_data"
    }
   ],
   "source": [
    "#begin construction of horizontal bar chart\n",
    "name = blade_data.Name\n",
    "rating = blade_data.Overall\n",
    "\n",
    "plt.xlim([9.3,9.65])\n",
    "plt.barh(name,rating)\n",
    "plt.gca().invert_yaxis()\n",
    "\n",
    "plt.title('Top 10 Rated Butterfly Blades')\n",
    "plt.ylabel('Blade Name')\n",
    "plt.xlabel('Overall Rating')\n",
    "\n",
    "\n",
    "plt.show()"
   ]
  },
  {
   "cell_type": "code",
   "execution_count": null,
   "id": "a9c995e9",
   "metadata": {},
   "outputs": [],
   "source": []
  },
  {
   "cell_type": "code",
   "execution_count": null,
   "id": "f33836c0",
   "metadata": {},
   "outputs": [],
   "source": []
  },
  {
   "cell_type": "code",
   "execution_count": null,
   "id": "a87dcc8c",
   "metadata": {},
   "outputs": [],
   "source": []
  },
  {
   "cell_type": "code",
   "execution_count": null,
   "id": "af1aa899",
   "metadata": {},
   "outputs": [],
   "source": []
  }
 ],
 "metadata": {
  "kernelspec": {
   "display_name": "Python 3",
   "language": "python",
   "name": "python3"
  },
  "language_info": {
   "codemirror_mode": {
    "name": "ipython",
    "version": 3
   },
   "file_extension": ".py",
   "mimetype": "text/x-python",
   "name": "python",
   "nbconvert_exporter": "python",
   "pygments_lexer": "ipython3",
   "version": "3.9.5"
  }
 },
 "nbformat": 4,
 "nbformat_minor": 5
}
